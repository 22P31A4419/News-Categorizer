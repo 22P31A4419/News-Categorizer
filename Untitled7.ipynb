{
  "nbformat": 4,
  "nbformat_minor": 0,
  "metadata": {
    "colab": {
      "provenance": []
    },
    "kernelspec": {
      "name": "python3",
      "display_name": "Python 3"
    },
    "language_info": {
      "name": "python"
    }
  },
  "cells": [
    {
      "cell_type": "code",
      "source": [
        "import pandas as pd\n",
        "from sklearn.model_selection import train_test_split\n",
        "from sklearn.feature_extraction.text import TfidfVectorizer\n",
        "from sklearn.linear_model import LogisticRegression\n",
        "\n",
        "# Sample news data\n",
        "texts = [\n",
        "    \"The government passed a new policy today.\",\n",
        "    \"The football match ended with a thrilling goal.\",\n",
        "    \"Stock market shows positive growth this quarter.\",\n",
        "    \"Elections are scheduled for next month.\",\n",
        "    \"The player broke the world record in sprinting.\",\n",
        "    \"The bank raised interest rates due to inflation.\"\n",
        "]\n",
        "\n",
        "labels = [\n",
        "    \"politics\",\n",
        "    \"sports\",\n",
        "    \"business\",\n",
        "    \"politics\",\n",
        "    \"sports\",\n",
        "    \"business\"\n",
        "]\n",
        "\n",
        "# Create DataFrame\n",
        "df = pd.DataFrame({'text': texts, 'label': labels})\n",
        "\n",
        "# Split dataset\n",
        "X_train, X_test, y_train, y_test = train_test_split(df['text'], df['label'], test_size=0.3, random_state=42)\n",
        "\n",
        "# TF-IDF Vectorizer\n",
        "vectorizer = TfidfVectorizer()\n",
        "X_train_tfidf = vectorizer.fit_transform(X_train)\n",
        "X_test_tfidf = vectorizer.transform(X_test)\n",
        "\n",
        "# Train classifier\n",
        "model = LogisticRegression()\n",
        "model.fit(X_train_tfidf, y_train)\n",
        "\n",
        "# Predict on new input\n",
        "def predict_category(text):\n",
        "    text_tfidf = vectorizer.transform([text])\n",
        "    prediction = model.predict(text_tfidf)\n",
        "    print(f\"Predicted Category: {prediction[0]}\")\n",
        "\n",
        "# Try with a new example\n",
        "predict_category(\"Stock market shows positive growth this quarter.\")\n"
      ],
      "metadata": {
        "colab": {
          "base_uri": "https://localhost:8080/"
        },
        "id": "9ZLFI9x-I7X0",
        "outputId": "a142846b-30e7-4bed-d814-8e4b5526af59"
      },
      "execution_count": 1,
      "outputs": [
        {
          "output_type": "stream",
          "name": "stdout",
          "text": [
            "Predicted Category: business\n"
          ]
        }
      ]
    }
  ]
}